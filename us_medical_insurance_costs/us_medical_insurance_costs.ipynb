{
 "cells": [
  {
   "cell_type": "markdown",
   "metadata": {},
   "source": [
    "# U.S. Medical Insurance Costs"
   ]
  },
  {
   "cell_type": "markdown",
   "metadata": {},
   "source": [
    "This project analyses a dataset of US Medical Insurance Costs. The dataset gives us data of \n",
    "age, sex, BMI, number of children, if the person is a smoker or not, region and the costs of insurance.\n",
    "\n",
    "The project answers the following questions:\n",
    "\n",
    "- What is the average of age people that get insurance?\n",
    "- Where is the majority from? \n",
    "- Do women pay more than men? \n",
    "- Does having more children affect the cost? \n",
    "- Does smoking affect the cost? \n",
    "- Does age affect the cost? \n",
    "- Does BMI affect the cost?"
   ]
  },
  {
   "cell_type": "markdown",
   "metadata": {},
   "source": [
    "## Libraries"
   ]
  },
  {
   "cell_type": "code",
   "execution_count": 38,
   "metadata": {},
   "outputs": [],
   "source": [
    "import csv\n",
    "import matplotlib.pyplot as plt"
   ]
  },
  {
   "cell_type": "markdown",
   "metadata": {},
   "source": [
    "## 1. Importing the dataset and saving it in a list of dictionaries"
   ]
  },
  {
   "cell_type": "code",
   "execution_count": 8,
   "metadata": {},
   "outputs": [],
   "source": [
    "insurance_data = []\n",
    "with open('insurance.csv', newline='') as dataset_csv:\n",
    "    dataset = csv.DictReader(dataset_csv)\n",
    "\n",
    "    for row in dataset:\n",
    "        insurance_data.append(row)"
   ]
  },
  {
   "cell_type": "markdown",
   "metadata": {},
   "source": [
    "## 2. Saving the ages and regions in different lists"
   ]
  },
  {
   "cell_type": "code",
   "execution_count": 28,
   "metadata": {},
   "outputs": [],
   "source": [
    "ages = []\n",
    "regions = []\n",
    "\n",
    "for data in insurance_data:\n",
    "    ages.append(int(data['age']))\n",
    "    regions.append(data['region'])"
   ]
  },
  {
   "cell_type": "markdown",
   "metadata": {},
   "source": [
    "## 3. Calculating the average of age"
   ]
  },
  {
   "cell_type": "code",
   "execution_count": 127,
   "metadata": {
    "scrolled": false
   },
   "outputs": [
    {
     "name": "stdout",
     "output_type": "stream",
     "text": [
      "The average age of people that get insurance is 39.\n"
     ]
    }
   ],
   "source": [
    "average_age = sum(ages) / len(ages)\n",
    "print('The average age of people that get insurance is {}.'.format(int(average_age)))"
   ]
  },
  {
   "cell_type": "markdown",
   "metadata": {},
   "source": [
    "## 4. Finding where the majority is located"
   ]
  },
  {
   "cell_type": "code",
   "execution_count": 247,
   "metadata": {},
   "outputs": [
    {
     "name": "stdout",
     "output_type": "stream",
     "text": [
      "There are 364 users from southeast, 325 users from southwest, 324 users from northeast and 325 users from northwest. Thus the users are aproximately distributed by region.\n"
     ]
    }
   ],
   "source": [
    "southeast = 0\n",
    "southwest = 0\n",
    "northwest = 0\n",
    "northeast = 0\n",
    "\n",
    "for region in regions:\n",
    "    if region == 'southeast':\n",
    "        southeast += 1\n",
    "    elif region == 'southwest':\n",
    "        southwest += 1\n",
    "    elif region == 'northeast':\n",
    "        northeast += 1\n",
    "    elif region == 'northwest':\n",
    "        northwest += 1\n",
    "\n",
    "print('There are {se} users from southeast, {sw} users from southwest, {ne} users from northeast and \\\n",
    "{nw} users from northwest. Thus the users are aproximately distributed by region.'.format(\n",
    "    se=southeast, sw=southwest, ne=northeast, nw=northwest))"
   ]
  },
  {
   "cell_type": "code",
   "execution_count": 82,
   "metadata": {},
   "outputs": [
    {
     "data": {
      "image/png": "[encoded data removed]",
      "text/plain": [
       "<Figure size 432x288 with 1 Axes>"
      ]
     },
     "metadata": {},
     "output_type": "display_data"
    }
   ],
   "source": [
    "#pie chart\n",
    "def region_perc(region):\n",
    "    return 100 * region / len(insurance_data)\n",
    "\n",
    "se_p = region_perc(southeast)\n",
    "sw_p = region_perc(southwest)\n",
    "ne_p = region_perc(northeast)\n",
    "nw_p = region_perc(northwest)\n",
    "\n",
    "labels = 'SE', 'SW', 'NE', 'NW'\n",
    "sizes = [se_p, sw_p, ne_p, nw_p]\n",
    "\n",
    "fig1, ax1 = plt.subplots()\n",
    "ax1.pie(sizes, labels=labels, autopct='%1.1f%%',\n",
    "        shadow=False)\n",
    "plt.title('Users by region')\n",
    "plt.show()"
   ]
  },
  {
   "cell_type": "markdown",
   "metadata": {},
   "source": [
    "## 5. Do women pay more than men?"
   ]
  },
  {
   "cell_type": "code",
   "execution_count": 119,
   "metadata": {},
   "outputs": [],
   "source": [
    "#This function counts the parameters that attend the options in options list, and when hasSomatory\n",
    "#is true, it sums the charges as well, storing the values in lists\n",
    "\n",
    "def count_and_total(dataset, parameter, options_list, hasSomatory):\n",
    "    counter = [0 for i in range(len(options_list))]\n",
    "    somatory = [0 for i in range(len(options_list))]\n",
    "    for data in dataset:\n",
    "        for i in range(len(options_list)):\n",
    "            if data[parameter] == options_list[i]:\n",
    "                counter[i] += 1\n",
    "                if hasSomatory:\n",
    "                    somatory[i] += float(data['charges'])\n",
    "    return counter, somatory"
   ]
  },
  {
   "cell_type": "code",
   "execution_count": 122,
   "metadata": {},
   "outputs": [
    {
     "name": "stdout",
     "output_type": "stream",
     "text": [
      "The average cost for women is $12569.58 and the average cost for men is $13956.75. \n",
      "Thus men pay more than women in this dataset.\n"
     ]
    }
   ],
   "source": [
    "users_by_gender, cost_by_gender = count_and_total(insurance_data, 'sex', ['female', 'male'], True)\n",
    "avg_women_cost = cost_by_gender[0] / users_by_gender[0] \n",
    "avg_men_cost = cost_by_gender[1] / users_by_gender[1]\n",
    "\n",
    "print('The average cost for women is ${} and the average cost for men is ${}. \\n\\\n",
    "Thus men pay more than women in this dataset.'.format(round(avg_women_cost, 2), round(avg_men_cost, 2)))"
   ]
  },
  {
   "cell_type": "markdown",
   "metadata": {},
   "source": [
    "## 6. Does having more children affect the cost?"
   ]
  },
  {
   "cell_type": "code",
   "execution_count": 226,
   "metadata": {},
   "outputs": [],
   "source": [
    "#This function accepts 4 ranges as a list (parameter options_list). \n",
    "#The options_list must be in ascendent order, where the numbers are inclusive in the range.\n",
    "\n",
    "def count_and_total_range(dataset, parameter, options_list, hasSomatory):\n",
    "    counter = [0, 0, 0, 0, 0]\n",
    "    somatory = [0, 0, 0, 0, 0]\n",
    "    for data in dataset:\n",
    "        if float(data[parameter]) > options_list[-1]:\n",
    "            counter[-1] += 1 \n",
    "            somatory[-1] += float(data['charges'])\n",
    "        elif float(data[parameter]) > options_list[-2] and float(data[parameter]) <= options_list[-1]:\n",
    "            counter[-2] += 1\n",
    "            somatory[-2] += float(data['charges'])\n",
    "        elif float(data[parameter]) > options_list[-3] and float(data[parameter]) <= options_list[-2]:\n",
    "            counter[-3] += 1\n",
    "            somatory[-3] += float(data['charges'])\n",
    "        elif float(data[parameter]) > options_list[-4] and float(data[parameter]) <= options_list[-3]:\n",
    "            counter[-4] += 1\n",
    "            somatory[-4] += float(data['charges'])\n",
    "        else:\n",
    "            counter[-5] += 1\n",
    "            somatory[-5] += float(data['charges'])\n",
    "    return counter, somatory  "
   ]
  },
  {
   "cell_type": "code",
   "execution_count": 227,
   "metadata": {},
   "outputs": [],
   "source": [
    "#Finding the number of people and cost by number of children\n",
    "#In this case, the last element in the resulting list will be for users with more than 3 children\n",
    "users_by_children, cost_by_children = count_and_total_range(insurance_data, 'children', [0, 1, 2, 3], True)"
   ]
  },
  {
   "cell_type": "code",
   "execution_count": 228,
   "metadata": {
    "scrolled": true
   },
   "outputs": [
    {
     "data": {
      "image/png": "[encoded data removed]",
      "text/plain": [
       "<Figure size 432x288 with 1 Axes>"
      ]
     },
     "metadata": {},
     "output_type": "display_data"
    }
   ],
   "source": [
    "#pie chart\n",
    "per_users_by_children = [100 * user / len(insurance_data) for user in users_by_children]\n",
    "        \n",
    "labels = 'None', '1', '2', '3', '4+'\n",
    "sizes = [per_users_by_children[0], per_users_by_children[1], \n",
    "         per_users_by_children[2], per_users_by_children[3], per_users_by_children[4]]\n",
    "\n",
    "fig1, ax1 = plt.subplots()\n",
    "ax1.pie(sizes, labels=labels, autopct='%1.1f%%',\n",
    "        shadow=False)\n",
    "plt.title('Users by number of children')\n",
    "plt.show()"
   ]
  },
  {
   "cell_type": "code",
   "execution_count": 230,
   "metadata": {},
   "outputs": [
    {
     "data": {
      "image/png": "[encoded data removed]",
      "text/plain": [
       "<Figure size 432x288 with 1 Axes>"
      ]
     },
     "metadata": {
      "needs_background": "light"
     },
     "output_type": "display_data"
    }
   ],
   "source": [
    "#mean cost by number of children\n",
    "mean_cost_by_children = [cost_by_children[i] / users_by_children[i] for i in range(len(cost_by_children))]\n",
    "\n",
    "labels = ('None', '1', '2', '3', '4+')\n",
    "y_pos = range(0,5,1)\n",
    "mean = [mean_cost_by_children[0], mean_cost_by_children[1], \n",
    "        mean_cost_by_children[2], mean_cost_by_children[3], mean_cost_by_children[4]]\n",
    "\n",
    "plt.bar(y_pos, mean, align='center', alpha=0.5)\n",
    "plt.xticks(y_pos, labels)\n",
    "plt.ylabel('Mean charges')\n",
    "plt.title('Mean Charges by Number of Children')\n",
    "\n",
    "plt.show()"
   ]
  },
  {
   "cell_type": "markdown",
   "metadata": {},
   "source": [
    "At first, it seems like having more children doesn't affect the cost."
   ]
  },
  {
   "cell_type": "markdown",
   "metadata": {},
   "source": [
    "## 7. Does smoking affect the cost?"
   ]
  },
  {
   "cell_type": "code",
   "execution_count": 231,
   "metadata": {},
   "outputs": [
    {
     "data": {
      "image/png": "[encoded data removed]",
      "text/plain": [
       "<Figure size 432x288 with 1 Axes>"
      ]
     },
     "metadata": {},
     "output_type": "display_data"
    }
   ],
   "source": [
    "users_by_smoker, cost_by_smoker = count_and_total(insurance_data, 'smoker', ['yes', 'no'], True)\n",
    "per_user_by_smoker = [100 * user / len(insurance_data) for user in users_by_smoker]\n",
    "\n",
    "#pie chart\n",
    "labels = 'Smoker', 'Non-smoker'\n",
    "sizes = [per_user_by_smoker[0], per_user_by_smoker[1]]\n",
    "\n",
    "fig1, ax1 = plt.subplots()\n",
    "ax1.pie(sizes, labels=labels, autopct='%1.1f%%',\n",
    "        shadow=False)\n",
    "plt.title('Users by smoker status')\n",
    "plt.show()"
   ]
  },
  {
   "cell_type": "code",
   "execution_count": 258,
   "metadata": {},
   "outputs": [
    {
     "name": "stdout",
     "output_type": "stream",
     "text": [
      "The mean charges for smokers is $32050.23 and for non-smokers is $8434.27. \n",
      "This may imply that smokers tend to pay more than those who don't smoke.\n"
     ]
    }
   ],
   "source": [
    "mean_cost_by_smoker = [cost_by_smoker[i] / users_by_smoker[i] for i in range(len(cost_by_smoker))]\n",
    "\n",
    "print(\"The mean charges for smokers is ${} and for non-smokers is ${}. \\n\\\n",
    "This may imply that smokers tend to pay more than those who don't smoke.\".format(round(mean_cost_by_smoker[0], 2), \n",
    "                                                             round(mean_cost_by_smoker[1], 2)))"
   ]
  },
  {
   "cell_type": "markdown",
   "metadata": {},
   "source": [
    "## 8. Does age affect the cost?\n",
    "\n",
    "The ages will be evaluated according to the following ranges:\n",
    "\n",
    "$young: age \\leq 33$\n",
    "\n",
    "$adult: 33 < age \\leq 48$\n",
    "\n",
    "$senior: 48 < age \\leq 64$"
   ]
  },
  {
   "cell_type": "code",
   "execution_count": 233,
   "metadata": {},
   "outputs": [],
   "source": [
    "#In this case the range will be [17, 33, 48, 64].\n",
    "#As I know there are no users under 17 and above 64, the first and last values will be 0.\n",
    "users_by_age, cost_by_age = count_and_total_range(insurance_data, 'age', [17, 33, 48, 64], True)"
   ]
  },
  {
   "cell_type": "code",
   "execution_count": 234,
   "metadata": {},
   "outputs": [
    {
     "data": {
      "image/png": "[encoded data removed]",
      "text/plain": [
       "<Figure size 432x288 with 1 Axes>"
      ]
     },
     "metadata": {},
     "output_type": "display_data"
    }
   ],
   "source": [
    "#pie chart\n",
    "per_users_by_age = [100 * user / len(insurance_data) for user in users_by_age]\n",
    "\n",
    "labels = '(17, 33]', '(33, 48]', '(48, 64]'\n",
    "sizes = [per_users_by_age[1], per_users_by_age[2], per_users_by_age[3]]\n",
    "\n",
    "fig1, ax1 = plt.subplots()\n",
    "ax1.pie(sizes, labels=labels, autopct='%1.1f%%',\n",
    "        shadow=False)\n",
    "plt.title('Users by age')\n",
    "plt.show()"
   ]
  },
  {
   "cell_type": "code",
   "execution_count": 257,
   "metadata": {},
   "outputs": [
    {
     "name": "stdout",
     "output_type": "stream",
     "text": [
      "The mean charges for people under 33 is $9576.86, for people between 33 and 48 years \n",
      "old is $13679.49 and for people above 48 the mean charges is $17549.57. \n",
      "This may imply that the charges tend to increase with the age of the user.\n"
     ]
    }
   ],
   "source": [
    "mean_cost_by_age = [cost_by_age[i] / users_by_age[i] for i in range(1, len(cost_by_age)-1)]\n",
    "\n",
    "print(\"The mean charges for people under 33 is ${}, for people between 33 and 48 years \\n\\\n",
    "old is ${} and for people above 48 the mean charges is ${}. \\n\\\n",
    "This may imply that the charges tend to increase with the age of the user.\".format(round(mean_cost_by_age[0], 2), \n",
    "                                                             round(mean_cost_by_age[1], 2),\n",
    "                                                             round(mean_cost_by_age[2], 2)))"
   ]
  },
  {
   "cell_type": "markdown",
   "metadata": {},
   "source": [
    "## 9. Does the BMI affect the cost?"
   ]
  },
  {
   "cell_type": "markdown",
   "metadata": {},
   "source": [
    "According to the National Heart, Lung and Blood Institute (NIH), the BMI can be classified as:\n",
    "\n",
    "$Underweight: BMI < 18.5$\n",
    "\n",
    "$Normal weight: 18.5 \\leq BMI \\leq 24.9$\n",
    "\n",
    "$Overweight: 25 \\leq BMI \\leq 29.9$\n",
    "\n",
    "$Obesity: BMI \\geq 30$"
   ]
  },
  {
   "cell_type": "code",
   "execution_count": 236,
   "metadata": {},
   "outputs": [],
   "source": [
    "#In this case the range will be [0, 18.4, 24.9, 29.9]. As there are no negative BMI values, the first value\n",
    "#will be zero.\n",
    "users_by_bmi, cost_by_bmi = count_and_total_range(insurance_data, 'bmi', [0, 18.4, 24.9, 29.9], True)"
   ]
  },
  {
   "cell_type": "code",
   "execution_count": 242,
   "metadata": {},
   "outputs": [
    {
     "data": {
      "image/png": "[encoded data removed]",
      "text/plain": [
       "<Figure size 432x288 with 1 Axes>"
      ]
     },
     "metadata": {},
     "output_type": "display_data"
    }
   ],
   "source": [
    "#pie chart\n",
    "per_users_by_bmi = [100 * user / len(insurance_data) for user in users_by_bmi]\n",
    "\n",
    "labels = 'Underweight', 'Normalweight', 'Overweight', 'Obesity'\n",
    "sizes = [per_users_by_bmi[1], per_users_by_bmi[2], per_users_by_bmi[3], per_users_by_bmi[4]]\n",
    "\n",
    "fig1, ax1 = plt.subplots()\n",
    "ax1.pie(sizes, labels=labels, autopct='%1.1f%%',\n",
    "        shadow=False)\n",
    "plt.title('Users by BMI')\n",
    "plt.show()"
   ]
  },
  {
   "cell_type": "code",
   "execution_count": 255,
   "metadata": {},
   "outputs": [
    {
     "name": "stdout",
     "output_type": "stream",
     "text": [
      "The mean charges for underweighted people is $8852.2, for normalweighted people $10379.5, \n",
      "for overweighted people $11006.81 and for obese people $15491.54. \n",
      "This may imply that the charges tend to increase with the BMI of the user.\n"
     ]
    }
   ],
   "source": [
    "mean_cost_by_bmi = [cost_by_bmi[i] / users_by_bmi[i] for i in range(1, len(cost_by_bmi))]\n",
    "\n",
    "print(\"The mean charges for underweighted people is ${}, for normalweighted people ${}, \\n\\\n",
    "for overweighted people ${} and for obese people ${}. \\n\\\n",
    "This may imply that the charges tend to increase with the BMI of the user.\".format(round(mean_cost_by_bmi[0], 2), \n",
    "                                                             round(mean_cost_by_bmi[1], 2),\n",
    "                                                             round(mean_cost_by_bmi[2], 2),\n",
    "                                                             round(mean_cost_by_bmi[3], 2)))"
   ]
  },
  {
   "cell_type": "markdown",
   "metadata": {},
   "source": [
    "# Conclusion"
   ]
  },
  {
   "cell_type": "markdown",
   "metadata": {},
   "source": [
    "This project investigated the available dataset in order to find out how the parameters influence the insurance costs.\n",
    "\n",
    "According to the results, it seems like the most influencing parameters are **age**, **smoking** and the **BMI**, which makes sense because these are parameters that have influence on the user's health. \n",
    "\n",
    "The number of children doesn't seem to affect the cost and the gender also seems to have little influence on these costs. "
   ]
  }
 ],
 "metadata": {
  "kernelspec": {
   "display_name": "Python 3",
   "language": "python",
   "name": "python3"
  },
  "language_info": {
   "codemirror_mode": {
    "name": "ipython",
    "version": 3
   },
   "file_extension": ".py",
   "mimetype": "text/x-python",
   "name": "python",
   "nbconvert_exporter": "python",
   "pygments_lexer": "ipython3",
   "version": "3.9.1"
  }
 },
 "nbformat": 4,
 "nbformat_minor": 4
}
