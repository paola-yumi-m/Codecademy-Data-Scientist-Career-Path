{
 "cells": [
  {
   "cell_type": "markdown",
   "id": "b7958a34",
   "metadata": {},
   "source": [
    "# Data Manipulation Challenge Project\n",
    "\n",
    "In this challenge, I wrote some functions that investigate a dataset of Jeopardy! questions and answers, based on the instructions. "
   ]
  },
  {
   "cell_type": "markdown",
   "id": "135ff8c0",
   "metadata": {},
   "source": [
    "### 1. Importing the libraries and the dataset"
   ]
  },
  {
   "cell_type": "code",
   "execution_count": 36,
   "id": "431f938a",
   "metadata": {},
   "outputs": [],
   "source": [
    "import pandas as pd\n",
    "import random"
   ]
  },
  {
   "cell_type": "code",
   "execution_count": 8,
   "id": "2615c691",
   "metadata": {},
   "outputs": [],
   "source": [
    "df = pd.read_csv('jeopardy.csv')\n",
    "pd.set_option('display.max_colwidth', None)"
   ]
  },
  {
   "cell_type": "markdown",
   "id": "ee7a5b23",
   "metadata": {},
   "source": [
    "### 2. Renaming the columns with variable names"
   ]
  },
  {
   "cell_type": "code",
   "execution_count": 9,
   "id": "3d710816",
   "metadata": {},
   "outputs": [],
   "source": [
    "df.columns = ['show_number', 'air_date', 'round', 'category', 'value', 'question', 'answer']"
   ]
  },
  {
   "cell_type": "markdown",
   "id": "b839c918",
   "metadata": {},
   "source": [
    "### 3. Defining a function to find questions that contain all the words in a list of words"
   ]
  },
  {
   "cell_type": "code",
   "execution_count": 55,
   "id": "06c3ef69",
   "metadata": {
    "scrolled": true
   },
   "outputs": [
    {
     "name": "stdout",
     "output_type": "stream",
     "text": [
      "There are 152 words that contain the words: ['King', 'England']\n"
     ]
    }
   ],
   "source": [
    "def contains_word(df, words):\n",
    "    filter = lambda question: all(word.lower() in question.lower() for word in words)\n",
    "    return df.question.apply(filter)\n",
    "\n",
    "words = ['King', 'England']\n",
    "filtered = df[contains_word(df, words)]\n",
    "print('There are {} words that contain the word(s): {}'.format(len(filtered), words))"
   ]
  },
  {
   "cell_type": "markdown",
   "id": "31c93bb2",
   "metadata": {},
   "source": [
    "### 4. Formatting the value column to float"
   ]
  },
  {
   "cell_type": "code",
   "execution_count": 16,
   "id": "239704e4",
   "metadata": {},
   "outputs": [],
   "source": [
    "df['float_value'] = df.value.apply(lambda x: float(x[1:].replace(',','')) if x != 'None' else 0)"
   ]
  },
  {
   "cell_type": "markdown",
   "id": "1b5bcd9c",
   "metadata": {},
   "source": [
    "### 5. Calculating the average difficulty of the dataframe"
   ]
  },
  {
   "cell_type": "code",
   "execution_count": 68,
   "id": "c5c3dd12",
   "metadata": {},
   "outputs": [
    {
     "name": "stdout",
     "output_type": "stream",
     "text": [
      "The average difficulty of questions that contain the word \"King\" is 771.88\n"
     ]
    }
   ],
   "source": [
    "def mean_difficulty(df):\n",
    "    return df.float_value.mean()\n",
    "\n",
    "words = ['King']\n",
    "df_king = df[contains_word(df, words)]\n",
    "print('The average difficulty of questions that contain the word \"King\" is {}'.format(round(mean_difficulty(df_king), 2)))"
   ]
  },
  {
   "cell_type": "markdown",
   "id": "d1f9b133",
   "metadata": {},
   "source": [
    "### 6. Finding what's the most common answer of the dataframe"
   ]
  },
  {
   "cell_type": "code",
   "execution_count": 70,
   "id": "7a4126b6",
   "metadata": {},
   "outputs": [
    {
     "name": "stdout",
     "output_type": "stream",
     "text": [
      "The most common answer for questions that contain the word \"King\" is Henry VIII and it appears 55 times.\n"
     ]
    }
   ],
   "source": [
    "def most_common_answer(df):\n",
    "    answers = df.answer.value_counts()\n",
    "    return answers.index[0], answers[0]\n",
    "\n",
    "most_common, count_common = most_common_answer(df_king)\n",
    "print('The most common answer for questions that contain the word \"King\" is {} and \\\n",
    "it appears {} times.'.format(most_common, count_common))"
   ]
  },
  {
   "cell_type": "markdown",
   "id": "edc4f2df",
   "metadata": {},
   "source": [
    "### 7. Determining how the questions change over time"
   ]
  },
  {
   "cell_type": "code",
   "execution_count": 76,
   "id": "6d9d2bce",
   "metadata": {
    "scrolled": true
   },
   "outputs": [],
   "source": [
    "df['year'] = df.air_date.apply(lambda date: float(date[:4]))"
   ]
  },
  {
   "cell_type": "code",
   "execution_count": 77,
   "id": "786f2276",
   "metadata": {},
   "outputs": [],
   "source": [
    "def change_over_time(df, decades, words):\n",
    "    first, second = decades[0], decades[1]\n",
    "    first_decade = df[(df.year >= first) & (df.year < first+10)]\n",
    "    second_decade = df[(df.year >= second) & (df.year < second+10)]\n",
    "    \n",
    "    words_first_decade = len(first_decade[contains_word(first_decade, words)])\n",
    "    words_second_decade = len(second_decade[contains_word(second_decade, words)])\n",
    "    increase = 100 * (words_second_decade - words_first_decade) / words_first_decade\n",
    "    \n",
    "    return words_first_decade, words_second_decade, increase"
   ]
  },
  {
   "cell_type": "code",
   "execution_count": 78,
   "id": "efb92e21",
   "metadata": {},
   "outputs": [
    {
     "name": "stdout",
     "output_type": "stream",
     "text": [
      "The word \"Computer\" appeared in 98 questions during the 90s and in 268 questions in the 2000s. \n",
      "This represents an increase of 173%.\n"
     ]
    }
   ],
   "source": [
    "comp_nineties, comp_twenties, increase = change_over_time(df, [1990, 2000], ['Computer'])\n",
    "print('The word \"Computer\" appeared in {} questions during the 90s and in {} questions in the 2000s. \\n\\\n",
    "This represents an increase of {}%.'.format(comp_nineties, comp_twenties, round(increase)))"
   ]
  },
  {
   "cell_type": "markdown",
   "id": "c1796f5b",
   "metadata": {},
   "source": [
    "### 8. Is there a connection between the round and the category?"
   ]
  },
  {
   "cell_type": "code",
   "execution_count": 80,
   "id": "1979e4e6",
   "metadata": {},
   "outputs": [],
   "source": [
    "def round_cat(df, cat):\n",
    "    return df[df.category == cat.upper()]['round'].value_counts()"
   ]
  },
  {
   "cell_type": "code",
   "execution_count": 85,
   "id": "4cfa8cc5",
   "metadata": {},
   "outputs": [
    {
     "name": "stdout",
     "output_type": "stream",
     "text": [
      "Double Jeopardy!    381\n",
      "Jeopardy!           105\n",
      "Final Jeopardy!      10\n",
      "Name: round, dtype: int64 \n",
      "\n",
      "The category \"Literature\" appears more often in the \"Douple Jeopardy!\" round.\n"
     ]
    }
   ],
   "source": [
    "print(round_cat(df, 'literature'), '\\n')\n",
    "print('The category \"Literature\" appears more often in the \"Douple Jeopardy!\" round.')"
   ]
  },
  {
   "cell_type": "markdown",
   "id": "52d90d26",
   "metadata": {},
   "source": [
    "### 9. Answer the question yourself!"
   ]
  },
  {
   "cell_type": "code",
   "execution_count": 86,
   "id": "d433dc90",
   "metadata": {},
   "outputs": [],
   "source": [
    "def question():\n",
    "    random_index = random.randint(0, len(df))\n",
    "    random_question = df.question[random_index]\n",
    "    print('QUESTION: {}'.format(random_question))\n",
    "    answer = input('Your answer: ')\n",
    "    if answer.lower() == df.answer[random_index].lower():\n",
    "        print(\"You're correct!\")\n",
    "    else:\n",
    "        print('Wrong answer :(')"
   ]
  },
  {
   "cell_type": "code",
   "execution_count": 87,
   "id": "95c8b12b",
   "metadata": {},
   "outputs": [
    {
     "name": "stdout",
     "output_type": "stream",
     "text": [
      "QUESTION: Covering some 26,000 acres, the largest U.S. municipal park system belongs to this U.S. city\n",
      "Your answer: a\n",
      "Wrong answer :(\n"
     ]
    }
   ],
   "source": [
    "question()"
   ]
  }
 ],
 "metadata": {
  "kernelspec": {
   "display_name": "Python 3",
   "language": "python",
   "name": "python3"
  },
  "language_info": {
   "codemirror_mode": {
    "name": "ipython",
    "version": 3
   },
   "file_extension": ".py",
   "mimetype": "text/x-python",
   "name": "python",
   "nbconvert_exporter": "python",
   "pygments_lexer": "ipython3",
   "version": "3.9.1"
  }
 },
 "nbformat": 4,
 "nbformat_minor": 5
}
