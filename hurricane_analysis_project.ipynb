{
 "cells": [
  {
   "cell_type": "markdown",
   "id": "7cb3768a",
   "metadata": {},
   "source": [
    "# Hurricane Analysis Challenge Project"
   ]
  },
  {
   "cell_type": "markdown",
   "id": "ad85b380",
   "metadata": {},
   "source": [
    "In this project, we organize and manipulate data about Category 5 Hurricanes."
   ]
  },
  {
   "cell_type": "markdown",
   "id": "288d4e08",
   "metadata": {},
   "source": [
    "## 0. Available data:"
   ]
  },
  {
   "cell_type": "code",
   "execution_count": 1,
   "id": "bac0d159",
   "metadata": {},
   "outputs": [],
   "source": [
    "# names of hurricanes\n",
    "names = ['Cuba I', 'San Felipe II Okeechobee', 'Bahamas', 'Cuba II', 'CubaBrownsville', 'Tampico', 'Labor Day', 'New England', 'Carol', 'Janet', 'Carla', 'Hattie', 'Beulah', 'Camille', 'Edith', 'Anita', 'David', 'Allen', 'Gilbert', 'Hugo', 'Andrew', 'Mitch', 'Isabel', 'Ivan', 'Emily', 'Katrina', 'Rita', 'Wilma', 'Dean', 'Felix', 'Matthew', 'Irma', 'Maria', 'Michael']\n",
    "\n",
    "# months of hurricanes\n",
    "months = ['October', 'September', 'September', 'November', 'August', 'September', 'September', 'September', 'September', 'September', 'September', 'October', 'September', 'August', 'September', 'September', 'August', 'August', 'September', 'September', 'August', 'October', 'September', 'September', 'July', 'August', 'September', 'October', 'August', 'September', 'October', 'September', 'September', 'October']\n",
    "\n",
    "# years of hurricanes\n",
    "years = [1924, 1928, 1932, 1932, 1933, 1933, 1935, 1938, 1953, 1955, 1961, 1961, 1967, 1969, 1971, 1977, 1979, 1980, 1988, 1989, 1992, 1998, 2003, 2004, 2005, 2005, 2005, 2005, 2007, 2007, 2016, 2017, 2017, 2018]\n",
    "\n",
    "# maximum sustained winds (mph) of hurricanes\n",
    "max_sustained_winds = [165, 160, 160, 175, 160, 160, 185, 160, 160, 175, 175, 160, 160, 175, 160, 175, 175, 190, 185, 160, 175, 180, 165, 165, 160, 175, 180, 185, 175, 175, 165, 180, 175, 160]\n",
    "\n",
    "# areas affected by each hurricane\n",
    "areas_affected = [['Central America', 'Mexico', 'Cuba', 'Florida', 'The Bahamas'], ['Lesser Antilles', 'The Bahamas', 'United States East Coast', 'Atlantic Canada'], ['The Bahamas', 'Northeastern United States'], ['Lesser Antilles', 'Jamaica', 'Cayman Islands', 'Cuba', 'The Bahamas', 'Bermuda'], ['The Bahamas', 'Cuba', 'Florida', 'Texas', 'Tamaulipas'], ['Jamaica', 'Yucatn Peninsula'], ['The Bahamas', 'Florida', 'Georgia', 'The Carolinas', 'Virginia'], ['Southeastern United States', 'Northeastern United States', 'Southwestern Quebec'], ['Bermuda', 'New England', 'Atlantic Canada'], ['Lesser Antilles', 'Central America'], ['Texas', 'Louisiana', 'Midwestern United States'], ['Central America'], ['The Caribbean', 'Mexico', 'Texas'], ['Cuba', 'United States Gulf Coast'], ['The Caribbean', 'Central America', 'Mexico', 'United States Gulf Coast'], ['Mexico'], ['The Caribbean', 'United States East coast'], ['The Caribbean', 'Yucatn Peninsula', 'Mexico', 'South Texas'], ['Jamaica', 'Venezuela', 'Central America', 'Hispaniola', 'Mexico'], ['The Caribbean', 'United States East Coast'], ['The Bahamas', 'Florida', 'United States Gulf Coast'], ['Central America', 'Yucatn Peninsula', 'South Florida'], ['Greater Antilles', 'Bahamas', 'Eastern United States', 'Ontario'], ['The Caribbean', 'Venezuela', 'United States Gulf Coast'], ['Windward Islands', 'Jamaica', 'Mexico', 'Texas'], ['Bahamas', 'United States Gulf Coast'], ['Cuba', 'United States Gulf Coast'], ['Greater Antilles', 'Central America', 'Florida'], ['The Caribbean', 'Central America'], ['Nicaragua', 'Honduras'], ['Antilles', 'Venezuela', 'Colombia', 'United States East Coast', 'Atlantic Canada'], ['Cape Verde', 'The Caribbean', 'British Virgin Islands', 'U.S. Virgin Islands', 'Cuba', 'Florida'], ['Lesser Antilles', 'Virgin Islands', 'Puerto Rico', 'Dominican Republic', 'Turks and Caicos Islands'], ['Central America', 'United States Gulf Coast (especially Florida Panhandle)']]\n",
    "\n",
    "# damages (USD($)) of hurricanes\n",
    "damages = ['Damages not recorded', '100M', 'Damages not recorded', '40M', '27.9M', '5M', 'Damages not recorded', '306M', '2M', '65.8M', '326M', '60.3M', '208M', '1.42B', '25.4M', 'Damages not recorded', '1.54B', '1.24B', '7.1B', '10B', '26.5B', '6.2B', '5.37B', '23.3B', '1.01B', '125B', '12B', '29.4B', '1.76B', '720M', '15.1B', '64.8B', '91.6B', '25.1B']\n",
    "\n",
    "# deaths for each hurricane\n",
    "deaths = [90,4000,16,3103,179,184,408,682,5,1023,43,319,688,259,37,11,2068,269,318,107,65,19325,51,124,17,1836,125,87,45,133,603,138,3057,74]"
   ]
  },
  {
   "cell_type": "markdown",
   "id": "818cf700",
   "metadata": {},
   "source": [
    "## 1. Formatting damages to float"
   ]
  },
  {
   "cell_type": "code",
   "execution_count": 12,
   "id": "1243d3c8",
   "metadata": {},
   "outputs": [
    {
     "name": "stdout",
     "output_type": "stream",
     "text": [
      "List of formatted damages:\n",
      " ['Damages not recorded', 100000000.0, 'Damages not recorded', 40000000.0, 27900000.0, 5000000.0, 'Damages not recorded', 306000000.0, 2000000.0, 65800000.0, 326000000.0, 60300000.0, 208000000.0, 1420000000.0, 25400000.0, 'Damages not recorded', 1540000000.0, 1240000000.0, 7100000000.0, 10000000000.0, 26500000000.0, 6200000000.0, 5370000000.0, 23300000000.0, 1010000000.0, 125000000000.0, 12000000000.0, 29400000000.0, 1760000000.0, 720000000.0, 15100000000.0, 64800000000.0, 91600000000.0, 25100000000.0]\n"
     ]
    }
   ],
   "source": [
    "# 1\n",
    "# Update Recorded Damages\n",
    "conversion = {\"M\": 1000000,\n",
    "              \"B\": 1000000000}\n",
    "\n",
    "# test function by updating damages\n",
    "def format_damages(damages):\n",
    "    damages_formatted = []\n",
    "    for damage in damages:\n",
    "        if damage[-1] == 'M':\n",
    "            damages_formatted.append(float(damage[:-1]) * conversion['M'])\n",
    "        elif damage[-1] == 'B':\n",
    "            damages_formatted.append(float(damage[:-1] ) * conversion['B'])\n",
    "        else:\n",
    "            damages_formatted.append(damage)\n",
    "    return damages_formatted\n",
    "damages_formatted = format_damages(damages)\n",
    "print('List of formatted damages:\\n', damages_formatted)"
   ]
  },
  {
   "cell_type": "markdown",
   "id": "6ce7e2e3",
   "metadata": {},
   "source": [
    "## 2. Creating a dictionary with the hurricane names as the keys"
   ]
  },
  {
   "cell_type": "code",
   "execution_count": 37,
   "id": "9ef1ba8d",
   "metadata": {},
   "outputs": [
    {
     "name": "stdout",
     "output_type": "stream",
     "text": [
      "In October of 1998, a hurricane named Mitch happened.\n",
      "The hurricane sustained maximum winds of 180 mph and affected several areas (['Central America', 'Yucatn Peninsula', 'South Florida']).\n",
      "The total cost of the damages were 6.2B and the number of deaths it caused were 19325.\n",
      "\n",
      "Example: info for the hurricane Cuba I:\n",
      " {'Name': 'Mitch', 'Month': 'October', 'Years': 1998, 'Max Sustained Wind': 180, 'Areas Affected': ['Central America', 'Yucatn Peninsula', 'South Florida'], 'Damage': 6200000000.0, 'Death': 19325}\n"
     ]
    }
   ],
   "source": [
    "# 2 \n",
    "# Create a Table\n",
    "\n",
    "# Create and view the hurricanes dictionary\n",
    "def hurricane_dic(names, months, years, max_sustained_winds, areas_affected, damages, deaths):\n",
    "    hurricanes = {}\n",
    "    for i in range(len(names)):\n",
    "        hurricanes[names[i]] = {'Name': names[i], 'Month': months[i], 'Years': years[i], 'Max Sustained Wind': max_sustained_winds[i], 'Areas Affected': areas_affected[i], 'Damage': damages[i], 'Death': deaths[i]}\n",
    "    return hurricanes\n",
    "hurricanes = hurricane_dic(names, months, years, max_sustained_winds, areas_affected, damages_formatted, deaths)\n",
    "hurricanes_damage = hurricane_dic(names, months, years, max_sustained_winds, areas_affected, damages, deaths)\n",
    "hurricane_mitch = hurricanes['Mitch']\n",
    "print(\"\"\"In {month} of {year}, a hurricane named {name} happened.\n",
    "The hurricane sustained maximum winds of {wind} mph and affected several areas ({areas}).\n",
    "The total cost of the damages were {damage} and the number of deaths it caused were {deaths}.\n",
    "\"\"\".format(\n",
    "    month=hurricane_cubai['Month'], year=hurricane_cubai['Years'], name=hurricane_cubai['Name'],\n",
    "    wind=hurricane_cubai['Max Sustained Wind'], areas=hurricane_cubai['Areas Affected'], \n",
    "    damage=hurricanes_damage[hurricane_cubai['Name']]['Damage'], deaths=hurricane_cubai['Death']))\n",
    "print('Example: info for the hurricane Cuba I:\\n', hurricane_cubai)"
   ]
  },
  {
   "cell_type": "markdown",
   "id": "6ed37fe4",
   "metadata": {},
   "source": [
    "## 3. Creating a dictionary with the years the hurricanes happened as the keys"
   ]
  },
  {
   "cell_type": "code",
   "execution_count": 38,
   "id": "9df66213",
   "metadata": {},
   "outputs": [
    {
     "name": "stdout",
     "output_type": "stream",
     "text": [
      "In October of 1924, a hurricane named Cuba I happened.\n",
      "The hurricane sustained maximum winds of 165 mph and affected several areas (['Central America', 'Mexico', 'Cuba', 'Florida', 'The Bahamas']).\n",
      "The total cost of the damages were Damages not recorded and the number of deaths it caused were 90.\n",
      "\n",
      "Example: info for the hurricane Cuba I:\n",
      " {'Name': 'Cuba I', 'Month': 'October', 'Years': 1924, 'Max Sustained Wind': 165, 'Areas Affected': ['Central America', 'Mexico', 'Cuba', 'Florida', 'The Bahamas'], 'Damage': 'Damages not recorded', 'Death': 90}\n"
     ]
    }
   ],
   "source": [
    "# 3\n",
    "# Organizing by Year\n",
    "\n",
    "# create a new dictionary of hurricanes with year and key\n",
    "def hurricanes_by_year_dic(hurricane_dic, years):\n",
    "    hurricanes_by_year = {}\n",
    "    index = 0\n",
    "    for value in hurricane_dic.values():\n",
    "        hurricanes_by_year[years[index]] = value\n",
    "        index += 1\n",
    "    return hurricanes_by_year\n",
    "\n",
    "hurricane_1924 = hurricanes_by_year_dic(hurricanes, years)[1924]\n",
    "print(\"\"\"In {month} of {year}, a hurricane named {name} happened.\n",
    "The hurricane sustained maximum winds of {wind} mph and affected several areas ({areas}).\n",
    "The total cost of the damages were {damage} and the number of deaths it caused were {deaths}.\n",
    "\"\"\".format(\n",
    "    month=hurricane_1924['Month'], year=hurricane_1924['Years'], name=hurricane_1924['Name'],\n",
    "    wind=hurricane_1924['Max Sustained Wind'], areas=hurricane_1924['Areas Affected'], \n",
    "    damage=hurricanes_damage[hurricane_1924['Name']]['Damage'], deaths=hurricane_1924['Death']))\n",
    "print('Example: info for the hurricane Cuba I:\\n', hurricane_1924)"
   ]
  },
  {
   "cell_type": "markdown",
   "id": "bb261bd2",
   "metadata": {},
   "source": [
    "## 4. Creating a dictionary with the times each area was damaged"
   ]
  },
  {
   "cell_type": "code",
   "execution_count": 8,
   "id": "11dbc45d",
   "metadata": {},
   "outputs": [
    {
     "name": "stdout",
     "output_type": "stream",
     "text": [
      "Example: Cuba was damaged 6 times.\n"
     ]
    }
   ],
   "source": [
    "# 4\n",
    "# Counting Damaged Areas\n",
    "\n",
    "# create dictionary of areas to store the number of hurricanes involved in\n",
    "def count_damaged_areas(hurricanes_dic):\n",
    "    unique_areas = {}\n",
    "    for hurricane in hurricanes_dic.values():\n",
    "        for area in hurricane['Areas Affected']:\n",
    "            if area not in unique_areas:\n",
    "                unique_areas[area] = 1\n",
    "            else:\n",
    "                unique_areas[area] += 1\n",
    "    return unique_areas\n",
    "damaged_areas = count_damaged_areas(hurricanes)\n",
    "print('Example: Cuba was damaged {cuba_damaged} times.'.format(cuba_damaged=damaged_areas['Cuba']))"
   ]
  },
  {
   "cell_type": "markdown",
   "id": "42d21aae",
   "metadata": {},
   "source": [
    "## 5. Finding the most frequently affected area and the number of hurricanes involved"
   ]
  },
  {
   "cell_type": "code",
   "execution_count": 14,
   "id": "22d6eeaf",
   "metadata": {},
   "outputs": [
    {
     "name": "stdout",
     "output_type": "stream",
     "text": [
      "The most affected area(s) was(were) ['Central America'] with 9 hurricanes.\n"
     ]
    }
   ],
   "source": [
    "# 5 \n",
    "# Calculating Maximum Hurricane Count\n",
    "\n",
    "# find most frequently affected area and the number of hurricanes involved in\n",
    "def find_most_affected_area(count_damaged_areas):\n",
    "    max_affected = max(list(count_damaged_areas.values()))\n",
    "    max_affected_area = []\n",
    "    for key, area in count_damaged_areas.items():\n",
    "        if area == max_affected:\n",
    "            max_affected_area.append(key)\n",
    "    return max_affected_area, max_affected\n",
    "most_affected_area, max_affected = find_most_affected_area(damaged_areas)\n",
    "print('The most affected area(s) was(were) {most_affected_area} with {hurricanes_number} hurricanes.'.format(most_affected_area=most_affected_area, hurricanes_number=max_affected))"
   ]
  },
  {
   "cell_type": "markdown",
   "id": "99a22f8e",
   "metadata": {},
   "source": [
    "## 6. Finding the deadliest hurricane"
   ]
  },
  {
   "cell_type": "code",
   "execution_count": 61,
   "id": "c4dc09f1",
   "metadata": {},
   "outputs": [
    {
     "name": "stdout",
     "output_type": "stream",
     "text": [
      "The deadliest hurricane was Mitch with 19325 deaths.\n"
     ]
    }
   ],
   "source": [
    "# 6\n",
    "# Calculating the Deadliest Hurricane\n",
    "\n",
    "# find highest mortality hurricane and the number of deaths\n",
    "def find_deadliest_hurricane(hurricanes):\n",
    "    max_death = ['', 0]\n",
    "    for info in hurricanes.values():\n",
    "        if info['Death'] > max_death[1]:\n",
    "            max_death[0] = info['Name']\n",
    "            max_death[1] = info['Death']\n",
    "    return max_death\n",
    "deadliest_hurricane = find_deadliest_hurricane(hurricanes)\n",
    "print('The deadliest hurricane was {hurricane} with {deaths} deaths.'.format(hurricane=deadliest_hurricane[0], deaths=deadliest_hurricane[1]))"
   ]
  },
  {
   "cell_type": "markdown",
   "id": "9974cd46",
   "metadata": {},
   "source": [
    "## 7. Rating hurricanes by mortality, in which 0 is the weakest hurricane and 5 is the strongest"
   ]
  },
  {
   "cell_type": "markdown",
   "id": "31013b91",
   "metadata": {},
   "source": [
    "### Mortality Scale:"
   ]
  },
  {
   "cell_type": "markdown",
   "id": "c1173850",
   "metadata": {},
   "source": [
    "$\\qquad deaths = 0:\\mbox{scale 0}$\n",
    "\n",
    "$\\qquad 0 < deaths \\leq 100: \\mbox{scale 1}$\n",
    "\n",
    "$\\qquad 100 < deaths \\leq 500: \\mbox{scale 2}$\n",
    "\n",
    "$\\qquad 500 < deaths \\leq 1.000: \\mbox{scale 3}$\n",
    "\n",
    "$\\qquad 1.000 < deaths \\leq 10.000: \\mbox{scale 4}$\n",
    "\n",
    "$\\qquad deaths > 10.000: \\mbox{scale 5}$"
   ]
  },
  {
   "cell_type": "code",
   "execution_count": 60,
   "id": "a0f75809",
   "metadata": {},
   "outputs": [
    {
     "name": "stdout",
     "output_type": "stream",
     "text": [
      "The hurricanes of scale 0 were:\n",
      "\t \n",
      "The hurricanes of scale 1 were:\n",
      "\t Cuba I, Bahamas, Carol, Carla, Edith, Anita, Andrew, Isabel, Emily, Wilma, Dean, Michael\n",
      "The hurricanes of scale 2 were:\n",
      "\t CubaBrownsville, Tampico, Labor Day, Hattie, Camille, Allen, Gilbert, Hugo, Ivan, Rita, Felix, Irma\n",
      "The hurricanes of scale 3 were:\n",
      "\t New England, Beulah, Matthew\n",
      "The hurricanes of scale 4 were:\n",
      "\t San Felipe II Okeechobee, Cuba II, Janet, David, Katrina, Maria\n",
      "The hurricanes of scale 5 were:\n",
      "\t Mitch\n",
      "\n",
      "Dictionary of hurricanes calsssified according to the mortality scale:\n",
      " {0: [], 1: ['Cuba I', 'Bahamas', 'Carol', 'Carla', 'Edith', 'Anita', 'Andrew', 'Isabel', 'Emily', 'Wilma', 'Dean', 'Michael'], 2: ['CubaBrownsville', 'Tampico', 'Labor Day', 'Hattie', 'Camille', 'Allen', 'Gilbert', 'Hugo', 'Ivan', 'Rita', 'Felix', 'Irma'], 3: ['New England', 'Beulah', 'Matthew'], 4: ['San Felipe II Okeechobee', 'Cuba II', 'Janet', 'David', 'Katrina', 'Maria'], 5: ['Mitch']}\n"
     ]
    }
   ],
   "source": [
    "# 7\n",
    "# Rating Hurricanes by Mortality\n",
    "mortality_scale = {0: 0,\n",
    "                   1: 100,\n",
    "                   2: 500,\n",
    "                   3: 1000,\n",
    "                   4: 10000}\n",
    "\n",
    "# categorize hurricanes in new dictionary with mortality severity as key\n",
    "def hurricanes_by_mortality_dic(hurricanes):\n",
    "    hurricanes_by_mortality = {0: [], \n",
    "                               1: [],\n",
    "                               2: [],\n",
    "                               3: [],\n",
    "                               4: [],\n",
    "                               5: []}\n",
    "    for info in hurricanes.values():\n",
    "        deaths = info['Death']\n",
    "        if deaths > mortality_scale[4]:\n",
    "            hurricanes_by_mortality[5].append(info['Name'])\n",
    "        elif deaths > mortality_scale[3]:\n",
    "            hurricanes_by_mortality[4].append(info['Name'])  \n",
    "        elif deaths > mortality_scale[2]:\n",
    "            hurricanes_by_mortality[3].append(info['Name'])\n",
    "        elif deaths > mortality_scale[1]:\n",
    "            hurricanes_by_mortality[2].append(info['Name'])\n",
    "        elif deaths > mortality_scale[0]:\n",
    "            hurricanes_by_mortality[1].append(info['Name'])\n",
    "        else:\n",
    "            hurricanes_by_mortality[0].append(info)\n",
    "    return hurricanes_by_mortality\n",
    "hurricanes_by_mortality = hurricanes_by_mortality_dic(hurricanes)\n",
    "for key, value in hurricanes_by_mortality.items():\n",
    "    print('The hurricanes of scale {scale} were:'.format(scale=key))\n",
    "    itens = ''\n",
    "    for item in value:\n",
    "        itens += item + ', '\n",
    "    print('\\t',itens[:-2])\n",
    "print('\\nDictionary of hurricanes calsssified according to the mortality scale:\\n', hurricanes_by_mortality_dic(hurricanes))"
   ]
  },
  {
   "cell_type": "markdown",
   "id": "eff94848",
   "metadata": {},
   "source": [
    "## 8. Finding the highest damage incurred by a hurricane"
   ]
  },
  {
   "cell_type": "code",
   "execution_count": 55,
   "id": "eadceaf5",
   "metadata": {},
   "outputs": [
    {
     "name": "stdout",
     "output_type": "stream",
     "text": [
      "The hurricane that incurred the highest damage was Katrina with 125B dollars.\n"
     ]
    }
   ],
   "source": [
    "# 8 Calculating Hurricane Maximum Damage\n",
    "\n",
    "# find highest damage inducing hurricane and its total cost\n",
    "def find_highest_damage_hurricane(hurricanes):\n",
    "    greatest_damage = ['', 0]\n",
    "    for info in hurricanes.values():\n",
    "        try:\n",
    "            if info['Damage'] > greatest_damage[1]:\n",
    "                greatest_damage[0] = info['Name']\n",
    "                greatest_damage[1] = info['Damage']\n",
    "        except:\n",
    "            continue\n",
    "    return greatest_damage\n",
    "highest_damage_hurricane = find_highest_damage_hurricane(hurricanes)\n",
    "print('The hurricane that incurred the highest damage was {hurricane} with {damage} dollars.'.format(hurricane=highest_damage_hurricane[0], damage=hurricanes_damage[highest_damage_hurricane[0]]['Damage']))"
   ]
  },
  {
   "cell_type": "markdown",
   "id": "d1a96911",
   "metadata": {},
   "source": [
    "## 9. Categorizing hurricanes by damage severity, in which 0 is the least several hurricane and 5 is the most several hurricane"
   ]
  },
  {
   "cell_type": "markdown",
   "id": "5b9e58cf",
   "metadata": {},
   "source": [
    "### Damage Scale:"
   ]
  },
  {
   "cell_type": "markdown",
   "id": "3c6dde43",
   "metadata": {},
   "source": [
    "$\\qquad damage = 0:\\mbox{scale 0}$\n",
    "\n",
    "$\\qquad 0 < damage \\leq 100M: \\mbox{scale 1}$\n",
    "\n",
    "$\\qquad 100M < damage \\leq 1B: \\mbox{scale 2}$\n",
    "\n",
    "$\\qquad 1B < damage \\leq 10B: \\mbox{scale 3}$\n",
    "\n",
    "$\\qquad 10B < damage \\leq 50B: \\mbox{scale 4}$\n",
    "\n",
    "$\\qquad damage > 50B: \\mbox{scale 5}$"
   ]
  },
  {
   "cell_type": "code",
   "execution_count": 59,
   "id": "be229c9f",
   "metadata": {},
   "outputs": [
    {
     "name": "stdout",
     "output_type": "stream",
     "text": [
      "The hurricanes of scale 0 were:\n",
      "\t \n",
      "The hurricanes of scale 1 were:\n",
      "\t San Felipe II Okeechobee, Cuba II, CubaBrownsville, Tampico, Carol, Janet, Hattie, Edith\n",
      "The hurricanes of scale 2 were:\n",
      "\t New England, Carla, Beulah, Felix\n",
      "The hurricanes of scale 3 were:\n",
      "\t Camille, David, Allen, Gilbert, Hugo, Mitch, Isabel, Emily, Dean\n",
      "The hurricanes of scale 4 were:\n",
      "\t Andrew, Ivan, Rita, Wilma, Matthew, Michael\n",
      "The hurricanes of scale 5 were:\n",
      "\t Katrina, Irma, Maria\n",
      "\n",
      "Dictionary of hurricanes calsssified according to the damage scale:\n",
      " {0: [], 1: ['San Felipe II Okeechobee', 'Cuba II', 'CubaBrownsville', 'Tampico', 'Carol', 'Janet', 'Hattie', 'Edith'], 2: ['New England', 'Carla', 'Beulah', 'Felix'], 3: ['Camille', 'David', 'Allen', 'Gilbert', 'Hugo', 'Mitch', 'Isabel', 'Emily', 'Dean'], 4: ['Andrew', 'Ivan', 'Rita', 'Wilma', 'Matthew', 'Michael'], 5: ['Katrina', 'Irma', 'Maria']}\n"
     ]
    }
   ],
   "source": [
    "# 9\n",
    "# Rating Hurricanes by Damage\n",
    "damage_scale = {0: 0,\n",
    "                1: 100000000,\n",
    "                2: 1000000000,\n",
    "                3: 10000000000,\n",
    "                4: 50000000000}\n",
    "  \n",
    "# categorize hurricanes in new dictionary with damage severity as key\n",
    "def hurricanes_by_severity_dic(hurricanes):\n",
    "    hurricanes_by_severity = {0: [],\n",
    "                              1: [],\n",
    "                              2: [],\n",
    "                              3: [],\n",
    "                              4: [],\n",
    "                              5: []}\n",
    "    for info in hurricanes.values():\n",
    "        try:\n",
    "            if info['Damage'] > damage_scale[4]:\n",
    "                hurricanes_by_severity[5].append(info['Name'])\n",
    "            elif info['Damage'] > damage_scale[3]:\n",
    "                hurricanes_by_severity[4].append(info['Name'])\n",
    "            elif info['Damage'] > damage_scale[2]:\n",
    "                hurricanes_by_severity[3].append(info['Name'])\n",
    "            elif info['Damage'] > damage_scale[1]:\n",
    "                hurricanes_by_severity[2].append(info['Name'])\n",
    "            elif info['Damage'] > damage_scale[0]:\n",
    "                hurricanes_by_severity[1].append(info['Name'])\n",
    "            else:\n",
    "                hurricanes_by_severity[0].append(info['Name'])\n",
    "        except:\n",
    "            continue\n",
    "    return hurricanes_by_severity\n",
    "hurricanes_by_severity = hurricanes_by_severity_dic(hurricanes)\n",
    "for key, value in hurricanes_by_severity.items():\n",
    "    print('The hurricanes of scale {scale} were:'.format(scale=key))\n",
    "    itens = ''\n",
    "    for item in value:\n",
    "        itens += item + ', '\n",
    "    print('\\t',itens[:-2])\n",
    "print('\\nDictionary of hurricanes calsssified according to the damage scale:\\n', hurricanes_by_severity_dic(hurricanes))"
   ]
  }
 ],
 "metadata": {
  "kernelspec": {
   "display_name": "Python 3",
   "language": "python",
   "name": "python3"
  },
  "language_info": {
   "codemirror_mode": {
    "name": "ipython",
    "version": 3
   },
   "file_extension": ".py",
   "mimetype": "text/x-python",
   "name": "python",
   "nbconvert_exporter": "python",
   "pygments_lexer": "ipython3",
   "version": "3.9.1"
  }
 },
 "nbformat": 4,
 "nbformat_minor": 5
}
